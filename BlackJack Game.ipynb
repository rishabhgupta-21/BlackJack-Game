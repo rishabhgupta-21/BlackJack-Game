{
 "cells": [
  {
   "cell_type": "markdown",
   "id": "af42a0ef",
   "metadata": {},
   "source": [
    "# EXPLANATION"
   ]
  },
  {
   "cell_type": "markdown",
   "id": "2cb20c52",
   "metadata": {},
   "source": [
    "**This is a Simplified Version of BlackJack. The Player may only choose to Hit or Stand. There are no actions such as Insurance, Split, Double Down, or Surrender.**"
   ]
  },
  {
   "cell_type": "markdown",
   "id": "414128f1",
   "metadata": {},
   "source": [
    "1. We have a Computer Dealer and a Human Player with a Deck of 52 Cards."
   ]
  },
  {
   "cell_type": "markdown",
   "id": "609bab43",
   "metadata": {},
   "source": [
    "2. The closest to 21 out of the Computer Dealer and the Human Player wins the game."
   ]
  },
  {
   "cell_type": "markdown",
   "id": "dc006597",
   "metadata": {},
   "source": [
    "3. Both participants are dealt two Cards: the Player is dealt both Cards face-up, while the Dealer is dealt one Card face-up and one Card face-down."
   ]
  },
  {
   "cell_type": "markdown",
   "id": "460e6dad",
   "metadata": {},
   "source": [
    "4. If the Player has total of 21, it is a Natural BlackJack. If the dealer does not have a Natural BlackJack as well, then the Player collects 2 times their bet. If the Dealer does have a Natural BlackJack, then the Player neither wins nor loses money, but simply collects back their own bet."
   ]
  },
  {
   "cell_type": "markdown",
   "id": "6fbd10ce",
   "metadata": {},
   "source": [
    "If the Player's total is less than 21, then..."
   ]
  },
  {
   "cell_type": "markdown",
   "id": "ee12ba11",
   "metadata": {},
   "source": [
    "5. The Player goes first."
   ]
  },
  {
   "cell_type": "markdown",
   "id": "56138c99",
   "metadata": {},
   "source": [
    "6. If the Player goes over 21, then they go Bust, and lose the bet."
   ]
  },
  {
   "cell_type": "markdown",
   "id": "176034cd",
   "metadata": {},
   "source": [
    "7. Else, when the Player is done and is still under 21, then the Dealer 'hits' until it either beats or equals the Player's total, or goes Bust."
   ]
  },
  {
   "cell_type": "markdown",
   "id": "5a06eed0",
   "metadata": {},
   "source": [
    "8. If the Player loses, the Dealer collects the bet. If the Player wins, they collect double the bet. If the sum for both, the Player and the Dealer, is equal, then the Player does not win or lose money, and collects back their own bet."
   ]
  },
  {
   "cell_type": "markdown",
   "id": "a7cc34bc",
   "metadata": {},
   "source": [
    "# RULES"
   ]
  },
  {
   "cell_type": "markdown",
   "id": "832e8148",
   "metadata": {},
   "source": [
    "1. All Face Cards have a value of 10"
   ]
  },
  {
   "cell_type": "markdown",
   "id": "f49f8716",
   "metadata": {},
   "source": [
    "2. Aces can have a value of 1 or 11, depending on whether the Player's current hand's total is over 21 or not."
   ]
  },
  {
   "cell_type": "markdown",
   "id": "d0ed1d7e",
   "metadata": {},
   "source": [
    " "
   ]
  },
  {
   "cell_type": "markdown",
   "id": "0b33afd5",
   "metadata": {},
   "source": [
    "========================================================================================================================= "
   ]
  },
  {
   "cell_type": "markdown",
   "id": "a023bd71",
   "metadata": {},
   "source": [
    " "
   ]
  },
  {
   "cell_type": "markdown",
   "id": "7df5f595",
   "metadata": {},
   "source": [
    "# PLAYING THE GAME"
   ]
  },
  {
   "cell_type": "markdown",
   "id": "0176757e",
   "metadata": {},
   "source": [
    " "
   ]
  },
  {
   "cell_type": "markdown",
   "id": "db19fb7d",
   "metadata": {},
   "source": [
    " "
   ]
  },
  {
   "cell_type": "markdown",
   "id": "d53a3699",
   "metadata": {},
   "source": [
    " "
   ]
  },
  {
   "cell_type": "markdown",
   "id": "b32eba67",
   "metadata": {},
   "source": [
    "## Global Variables"
   ]
  },
  {
   "cell_type": "code",
   "execution_count": null,
   "id": "f495e0ff",
   "metadata": {},
   "outputs": [],
   "source": [
    "suits = (\"Spades\", \"Hearts\", \"Diamonds\", \"Clubs\")\n",
    "\n",
    "ranks = (\"Ace\", \"Two\", \"Three\", \"Four\", \"Five\", \"Six\", \"Seven\", \"Eight\", \"Nine\", \"Ten\", \"Jack\", \"Queen\", \"King\")\n",
    "\n",
    "values = {\"Two\":2, \"Three\":3, \"Four\":4, \"Five\":5, \"Six\":6, \"Seven\":7, \"Eight\":8, \"Nine\":9, \"Ten\":10, \n",
    "          \"Jack\": 10, \"Queen\":10, \"King\":10, \"Ace\":11}"
   ]
  },
  {
   "cell_type": "markdown",
   "id": "3f99bfa7",
   "metadata": {},
   "source": [
    "## Card Class"
   ]
  },
  {
   "cell_type": "code",
   "execution_count": null,
   "id": "c30198dd",
   "metadata": {},
   "outputs": [],
   "source": [
    "class Card():\n",
    "    # Constructor\n",
    "    def __init__(self, suit, rank):\n",
    "        self.suit = suit.capitalize()\n",
    "        self.rank = rank.capitalize()\n",
    "        self.value = values[rank]\n",
    "        \n",
    "    # Overloaded print()\n",
    "    def __str__(self):\n",
    "        return f\"{self.rank} of {self.suit}\""
   ]
  },
  {
   "cell_type": "markdown",
   "id": "b9fba492",
   "metadata": {},
   "source": [
    "## Deck Class"
   ]
  },
  {
   "cell_type": "code",
   "execution_count": null,
   "id": "6395b9ac",
   "metadata": {},
   "outputs": [],
   "source": [
    "import random"
   ]
  },
  {
   "cell_type": "code",
   "execution_count": null,
   "id": "4abd004f",
   "metadata": {},
   "outputs": [],
   "source": [
    "class Deck():\n",
    "    # Constructor\n",
    "    def __init__(self):\n",
    "        self.cards = []\n",
    "        \n",
    "        for suit in suits:\n",
    "            for rank in ranks:\n",
    "                self.cards.append(Card(suit, rank))\n",
    "                \n",
    "    # Methods\n",
    "    def deal_one_card(self):\n",
    "        return self.cards.pop()\n",
    "    \n",
    "    def shuffle(self):\n",
    "        random.shuffle(self.cards)"
   ]
  },
  {
   "cell_type": "markdown",
   "id": "fa6906ec",
   "metadata": {},
   "source": [
    "## Hand Class"
   ]
  },
  {
   "cell_type": "code",
   "execution_count": null,
   "id": "c05d821d",
   "metadata": {},
   "outputs": [],
   "source": [
    "class Hand:\n",
    "    # Constructor\n",
    "    def __init__(self):\n",
    "        self.cards = []  # start with an empty list as we did in the Deck class\n",
    "        self.value = 0   # start with zero value\n",
    "    \n",
    "    # Methods\n",
    "    def add_card(self,card):       \n",
    "        self.cards.append(card)\n",
    "        self.value += card.value\n",
    "        \n",
    "        self.adjust_for_ace()\n",
    "            \n",
    "    \n",
    "    def adjust_for_ace(self):     # called in the above method for adding cards to the existing hand\n",
    "        if self.value > 21:\n",
    "            for card in self.cards:\n",
    "                if card.value == 11:     # If Card is an Ace\n",
    "                    card.value = 1       # Change the value of \"this\" particular Ace to 1\n",
    "                    self.value -= 10     # Subtract 10 from the Hand's value to adjust for this new value of this Ace"
   ]
  },
  {
   "cell_type": "markdown",
   "id": "d535f82d",
   "metadata": {},
   "source": [
    "## Player Class"
   ]
  },
  {
   "cell_type": "code",
   "execution_count": null,
   "id": "4874a2b5",
   "metadata": {},
   "outputs": [],
   "source": [
    "class Player():\n",
    "    # Constructor\n",
    "    def __init__(self, name):\n",
    "        self.name = name\n",
    "        self.chips = 1000    # Every player starts with 1000 $1 chips\n",
    "        self.hand = Hand()   # Hand of Card Objects\n",
    "        self.bet = 0\n",
    "        \n",
    "    # Overloaded print()\n",
    "    def __str__(self):\n",
    "        return f\"Player {self.name} currently has {self.chips} chips.\"\n",
    "    \n",
    "    # Methods\n",
    "    def bet_chips(self, amount):                \n",
    "        print(f\"Player {self.name} has bet {amount} chips\")\n",
    "        \n",
    "        self.bet = amount\n",
    "        self.chips -= amount\n",
    "        \n",
    "    def hit(self, deck_of_cards):\n",
    "        print(f\"\\n\\nHIT - {self.name}\")\n",
    "        self.hand.add_card( deck_of_cards.deal_one_card() )"
   ]
  },
  {
   "cell_type": "markdown",
   "id": "169e928f",
   "metadata": {},
   "source": [
    "## Dealer Class"
   ]
  },
  {
   "cell_type": "code",
   "execution_count": null,
   "id": "5645b628",
   "metadata": {},
   "outputs": [],
   "source": [
    "class Dealer():\n",
    "    # Constructor\n",
    "    def __init__(self, name):\n",
    "        self.hand = Hand()\n",
    "        self.name = name\n",
    "        \n",
    "    # Method\n",
    "    def hit(self, deck_of_cards):\n",
    "        print(f\"\\n\\nHIT - Dealer\")\n",
    "        self.hand.add_card( deck_of_cards.deal_one_card() )"
   ]
  },
  {
   "cell_type": "markdown",
   "id": "dff198e6",
   "metadata": {},
   "source": [
    "## Functions to help in Game Logic"
   ]
  },
  {
   "cell_type": "markdown",
   "id": "1a171af2",
   "metadata": {},
   "source": [
    "Function to reset the details of the Dealer and the Player at the start of each round"
   ]
  },
  {
   "cell_type": "code",
   "execution_count": null,
   "id": "e6de1a9a",
   "metadata": {},
   "outputs": [],
   "source": [
    "def reset(participant):\n",
    "    participant.hand.cards = []\n",
    "    participant.hand.value = 0\n",
    "    participant.bet = 0"
   ]
  },
  {
   "cell_type": "markdown",
   "id": "51c3366a",
   "metadata": {},
   "source": [
    "Function to check if the Player has any chips left at the end of each round"
   ]
  },
  {
   "cell_type": "code",
   "execution_count": null,
   "id": "c58728cf",
   "metadata": {},
   "outputs": [],
   "source": [
    "def chips_left(player):\n",
    "    \n",
    "    if player.chips == 0:\n",
    "        print(f\"\\nPlayer {player.name} does not have any chips left.\")\n",
    "        print(\"Thus, they cannot continue playing.\")\n",
    "        \n",
    "        return False\n",
    "    \n",
    "    return True"
   ]
  },
  {
   "cell_type": "markdown",
   "id": "5df4e823",
   "metadata": {},
   "source": [
    "Function to show all cards in the current hand of the Dealer/Player"
   ]
  },
  {
   "cell_type": "code",
   "execution_count": null,
   "id": "8b0ff193",
   "metadata": {},
   "outputs": [],
   "source": [
    "def show_hand(participant):\n",
    "    if len(participant.hand.cards) == 0:\n",
    "        print(\"/nThe player currently has no cards in their hand.\")\n",
    "    \n",
    "    else:\n",
    "        print(\"\\n\")\n",
    "        print(participant.name + \"'s Hand:\")\n",
    "        \n",
    "        for card in participant.hand.cards:\n",
    "            print(card, end = \"  \")"
   ]
  },
  {
   "cell_type": "markdown",
   "id": "16cc223f",
   "metadata": {},
   "source": [
    "Function for actions to be taken if the Player wins a round"
   ]
  },
  {
   "cell_type": "code",
   "execution_count": null,
   "id": "6fc33c21",
   "metadata": {},
   "outputs": [],
   "source": [
    "def player_wins(player):\n",
    "    print(\"\\n\")\n",
    "    print(f\"Player {player.name} won this round!\")\n",
    "    print(f\"They win {2 * player.bet} chips!\")\n",
    "    player.chips += 2 * player.bet"
   ]
  },
  {
   "cell_type": "markdown",
   "id": "81bdb700",
   "metadata": {},
   "source": [
    "Function for actions to be taken if the Player loses a round"
   ]
  },
  {
   "cell_type": "code",
   "execution_count": null,
   "id": "d53520e9",
   "metadata": {},
   "outputs": [],
   "source": [
    "def player_loses(player):\n",
    "    print(\"\\n\")\n",
    "    print(f\"Unfortunately, player {player.name} lost this round.\")\n",
    "    print(f\"They lose {player.bet} chips.\")"
   ]
  },
  {
   "cell_type": "markdown",
   "id": "7960c792",
   "metadata": {},
   "source": [
    "Function for actions to be taken if the Player ties a round"
   ]
  },
  {
   "cell_type": "code",
   "execution_count": null,
   "id": "c894bc0b",
   "metadata": {},
   "outputs": [],
   "source": [
    "def player_ties(player):\n",
    "    print(\"\\n\")\n",
    "    print(\"As both hands have equal value, this round ends in a TIE!\")\n",
    "    print(f\"Thus, the player gets back their {player.bet} chips.\")\n",
    "    player.chips += player.bet"
   ]
  },
  {
   "cell_type": "markdown",
   "id": "a8483bfa",
   "metadata": {},
   "source": [
    "Function for actions to be taken in case of a Natural Blackjack"
   ]
  },
  {
   "cell_type": "code",
   "execution_count": null,
   "id": "c75be5e6",
   "metadata": {},
   "outputs": [],
   "source": [
    "def natural_blackjack(player, dealer):\n",
    "    print(f\"Player {player.name} got a Natural BlackJack!\")\n",
    "    \n",
    "    show_hand(dealer)\n",
    "    \n",
    "    if dealer.hand.value == 21:\n",
    "        print(\"The Dealer also got a Natural BlackJack!\")\n",
    "        player_ties(player)\n",
    "    \n",
    "    else:\n",
    "        player_wins(player)"
   ]
  },
  {
   "cell_type": "markdown",
   "id": "977e9356",
   "metadata": {},
   "source": [
    "Function for actions to be taken if the Player wins a round via Natural Blackjack (in case we want a different amount of chips to be collected for winning this way)"
   ]
  },
  {
   "cell_type": "code",
   "execution_count": null,
   "id": "05343717",
   "metadata": {},
   "outputs": [],
   "source": [
    "#def player_natural_blackjack(player):\n",
    "#    print(\"\\n\")\n",
    "#    print(\"\\n\")\n",
    "#    print(f\"Player {player.name} got a Natural BlackJack and won the round!\")\n",
    "#    print(f\"They win {2 * player.bet} chips!\")\n",
    "#    player.chips += 2 * player.bet"
   ]
  },
  {
   "cell_type": "markdown",
   "id": "0662bf86",
   "metadata": {},
   "source": [
    "# Game Logic"
   ]
  },
  {
   "cell_type": "code",
   "execution_count": null,
   "id": "a623e0bd",
   "metadata": {},
   "outputs": [],
   "source": [
    "p1 = Player(\"Rishabh\")"
   ]
  },
  {
   "cell_type": "code",
   "execution_count": null,
   "id": "4c78fa63",
   "metadata": {},
   "outputs": [],
   "source": [
    "dealer = Dealer(\"Dealer\")"
   ]
  },
  {
   "cell_type": "code",
   "execution_count": null,
   "id": "3887842c",
   "metadata": {},
   "outputs": [],
   "source": [
    "game_on = True"
   ]
  },
  {
   "cell_type": "code",
   "execution_count": null,
   "id": "2121bbe9",
   "metadata": {},
   "outputs": [],
   "source": [
    "while game_on:\n",
    "    \n",
    "    # Resetting the Deck for the new round\n",
    "    new_deck = Deck()\n",
    "    new_deck.shuffle()\n",
    "    \n",
    "    # Resetting the Player's and the Dealer's Hands for the new round\n",
    "    reset(p1)\n",
    "    reset(dealer)\n",
    "    \n",
    "    player_bust = False\n",
    "    dealer_bust = False\n",
    "    \n",
    "    # Displaying the Player's Chips/Money at the start of each round\n",
    "    print(f\"Player {p1.name} currently has {p1.chips} Chips.\")\n",
    "    \n",
    "    \n",
    "    \n",
    "    # Asking the user for a bet\n",
    "    amount = -1\n",
    "    \n",
    "    while amount < 0 or amount > p1.chips:\n",
    "        amount = input(\"Enter the bet for this round: \")\n",
    "        \n",
    "        if not amount.isdigit():\n",
    "            print(\"Enter a valid integer number of chips to bet\")\n",
    "            amount = -1\n",
    "            continue\n",
    "        \n",
    "        amount = int(amount)\n",
    "        \n",
    "        if amount < 0:\n",
    "            print(\"Please bet a valid amount of chips (greater than 0)\")\n",
    "            \n",
    "        elif amount > p1.chips:\n",
    "            print(\"You do not have enough chips.\")\n",
    "    \n",
    "    p1.bet_chips(amount)\n",
    "    \n",
    "    \n",
    "    \n",
    "    # Dealing 2 cards each to the Player and the Dealer\n",
    "    p1.hand.add_card(new_deck.deal_one_card())\n",
    "    dealer.hand.add_card(new_deck.deal_one_card())\n",
    "    p1.hand.add_card(new_deck.deal_one_card())\n",
    "    dealer.hand.add_card(new_deck.deal_one_card())\n",
    "    \n",
    "    # Displaying the Player's and the Dealer's Hands\n",
    "    show_hand(p1)\n",
    "    \n",
    "    print(\"\\nDealer's hand:\")\n",
    "    print(dealer.hand.cards[0], end = \"  \")\n",
    "    print(\"(Face-Down Card)\")\n",
    "\n",
    "    \n",
    "    \n",
    "    # Natural BlackJack\n",
    "    if p1.hand.value == 21:\n",
    "        natural_blackjack(p1, dealer)    \n",
    "    \n",
    "    \n",
    "    else:    # If there is No Natural BlackJack\n",
    "        \n",
    "        # PLAYER'S TURN (Hit/Stand)\n",
    "        \n",
    "        choice = \"None\"\n",
    "        \n",
    "        while choice != \"S\":\n",
    "            choice = input(f\"\\nDoes player {p1.name} want to Hit or Stand (H/S)? \").upper()\n",
    "            \n",
    "            if choice not in ('H', 'S'):\n",
    "                print(\"Make a valid choice.\")\n",
    "                continue\n",
    "            \n",
    "            elif choice == \"H\":\n",
    "                p1.hit(new_deck)\n",
    "                show_hand(p1)\n",
    "                \n",
    "            else:\n",
    "                print(f\"\\nPlayer {p1.name} will STAND.\")\n",
    "                show_hand(p1)\n",
    "                print(\"\\n\\n-----------------------Player's Turn Ends-----------------------\")\n",
    "                continue\n",
    "                \n",
    "            # Did player go Bust?\n",
    "            if p1.hand.value > 21:\n",
    "                print(f\"\\nUh-oh. Player {p1.name} went BUST!\")\n",
    "                print(\"\\n-----------------------Player's Turn Ends-----------------------\")\n",
    "                player_bust = True\n",
    "                break\n",
    "                \n",
    "            if p1.hand.value == 21:\n",
    "                print(\"\\nBLACKJACK!\")\n",
    "                print(\"\\n-----------------------Player's Turn Ends-----------------------\")\n",
    "                break\n",
    "        \n",
    "        \n",
    "        # If PLayer lost while hitting\n",
    "        if player_bust == True:\n",
    "            player_loses(p1)\n",
    "        \n",
    "        \n",
    "        \n",
    "        # DEALER'S TURN\n",
    "        \n",
    "        else:\n",
    "            # Show Dealer's Hand\n",
    "            show_hand(dealer)\n",
    "            \n",
    "            while dealer.hand.value < p1.hand.value:\n",
    "                dealer.hit(new_deck)\n",
    "                show_hand(dealer)\n",
    "            \n",
    "            print(\"\\n\\n-----------------------Dealer's Turn Ends-----------------------\")\n",
    "            \n",
    "            \n",
    "            \n",
    "            # PRINTING VALUES OF BOTH HANDS\n",
    "            print(\"\\n\")\n",
    "            print(f\"Player {p1.name} has a Hand of value\", p1.hand.value)\n",
    "            print(\"The Dealer has a Hand of value\", dealer.hand.value)\n",
    "            \n",
    "            \n",
    "            \n",
    "            # Compare Values of Hands\n",
    "            if dealer.hand.value == p1.hand.value:\n",
    "                player_ties(p1)\n",
    "            \n",
    "            elif p1.hand.value < dealer.hand.value <= 21:\n",
    "                player_loses(p1)\n",
    "                \n",
    "            else:\n",
    "                dealer_bust = True\n",
    "                print(\"\\nThe dealer went BUST!\")\n",
    "                player_wins(p1)\n",
    "               \n",
    "            \n",
    "    \n",
    "    # Checking if the Player has any chips left\n",
    "    if not chips_left(p1):\n",
    "        print(\"\\nYou are leaving with\", p1.chips, \"Chips.\")\n",
    "        print(\"\\nThank you for Playing!\")\n",
    "        \n",
    "        game_on = False\n",
    "     \n",
    "    \n",
    "    # If Player DOES have chips left    \n",
    "    else:\n",
    "    \n",
    "        # Asking if the Player wants to play another round\n",
    "        keep_playing = \"None\"\n",
    "    \n",
    "        while keep_playing not in ['Y', 'N']:\n",
    "            keep_playing = input(\"\\nDo you want to play another round (Y/N) ? \").upper()\n",
    "        \n",
    "            if keep_playing not in ['Y', 'N']:\n",
    "                print(\"Enter Y or N\")\n",
    "            \n",
    "        if keep_playing == 'Y':\n",
    "            print(\"\\n=======================================================================================================\\n\")\n",
    "            \n",
    "            game_on = True\n",
    "        \n",
    "        else:            \n",
    "            print(\"\\n=======================================================================================================\\n\")\n",
    "            print(\"You are leaving with\", p1.chips, \"Chips.\")\n",
    "            print(\"\\nThank you for Playing!\")\n",
    "            \n",
    "            game_on = False"
   ]
  }
 ],
 "metadata": {
  "kernelspec": {
   "display_name": "Python 3 (ipykernel)",
   "language": "python",
   "name": "python3"
  },
  "language_info": {
   "codemirror_mode": {
    "name": "ipython",
    "version": 3
   },
   "file_extension": ".py",
   "mimetype": "text/x-python",
   "name": "python",
   "nbconvert_exporter": "python",
   "pygments_lexer": "ipython3",
   "version": "3.9.12"
  }
 },
 "nbformat": 4,
 "nbformat_minor": 5
}
